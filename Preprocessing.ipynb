{
 "cells": [
  {
   "cell_type": "markdown",
   "id": "193d99ad",
   "metadata": {},
   "source": [
    "*Let us import understand the dataset properly*\n"
   ]
  },
  {
   "cell_type": "code",
   "execution_count": 6,
   "id": "b363a0de",
   "metadata": {},
   "outputs": [
    {
     "name": "stdout",
     "output_type": "stream",
     "text": [
      "<class 'pandas.core.frame.DataFrame'>\n",
      "RangeIndex: 4746 entries, 0 to 4745\n",
      "Data columns (total 12 columns):\n",
      " #   Column             Non-Null Count  Dtype \n",
      "---  ------             --------------  ----- \n",
      " 0   Posted On          4746 non-null   object\n",
      " 1   BHK                4746 non-null   int64 \n",
      " 2   Rent               4746 non-null   int64 \n",
      " 3   Size               4746 non-null   int64 \n",
      " 4   Floor              4746 non-null   object\n",
      " 5   Area Type          4746 non-null   object\n",
      " 6   Area Locality      4746 non-null   object\n",
      " 7   City               4746 non-null   object\n",
      " 8   Furnishing Status  4746 non-null   object\n",
      " 9   Tenant Preferred   4746 non-null   object\n",
      " 10  Bathroom           4746 non-null   int64 \n",
      " 11  Point of Contact   4746 non-null   object\n",
      "dtypes: int64(4), object(8)\n",
      "memory usage: 445.1+ KB\n",
      "None \n",
      "\n",
      "\n",
      "\n",
      "               BHK          Rent         Size     Bathroom\n",
      "count  4746.000000  4.746000e+03  4746.000000  4746.000000\n",
      "mean      2.083860  3.499345e+04   967.490729     1.965866\n",
      "std       0.832256  7.810641e+04   634.202328     0.884532\n",
      "min       1.000000  1.200000e+03    10.000000     1.000000\n",
      "25%       2.000000  1.000000e+04   550.000000     1.000000\n",
      "50%       2.000000  1.600000e+04   850.000000     2.000000\n",
      "75%       3.000000  3.300000e+04  1200.000000     2.000000\n",
      "max       6.000000  3.500000e+06  8000.000000    10.000000\n"
     ]
    }
   ],
   "source": [
    "import pandas as pd\n",
    "\n",
    "raw_data =  pd.read_csv(\"House_Rent_Dataset.csv\")\n",
    "\n",
    "print(raw_data.info(),\"\\n\\n\\n\")\n",
    "print(raw_data.describe())"
   ]
  }
 ],
 "metadata": {
  "kernelspec": {
   "display_name": "base",
   "language": "python",
   "name": "python3"
  },
  "language_info": {
   "codemirror_mode": {
    "name": "ipython",
    "version": 3
   },
   "file_extension": ".py",
   "mimetype": "text/x-python",
   "name": "python",
   "nbconvert_exporter": "python",
   "pygments_lexer": "ipython3",
   "version": "3.13.5"
  }
 },
 "nbformat": 4,
 "nbformat_minor": 5
}
